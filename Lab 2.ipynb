{
 "cells": [
  {
   "cell_type": "markdown",
   "metadata": {},
   "source": [
    "<div id=\"header\">\n",
    "<h1 class=\"title\">CS2900 :- Topic 2 Lab</h1>\n",
    "<h2 class=\"author\">Hugh Shanahan</h2>\n",
    "</div>"
   ]
  },
  {
   "cell_type": "markdown",
   "metadata": {},
   "source": [
    "<p>The learning outcomes of this session are</p>\n",
    "<ul>\n",
    "<li><p>to have an introductory understanding of matrix notation and related tools in NumPy.</p></li>\n",
    "<li><p>To become familiar with the concept of rotations and other linear transformations on Vectors.</p></li>\n",
    "<li><p>To apply the concept of adjacency matrices in determining numbers of walks between nodes in a graph.</p></li>\n",
    "</ul>\n"
   ]
  },
  {
   "cell_type": "markdown",
   "metadata": {},
   "source": [
    "<h1 id=\"Notebooks\">Notebooks</h1>"
   ]
  },
  {
   "cell_type": "markdown",
   "metadata": {},
   "source": [
    "<p>\n",
    "If you haven't encountered this before this is an example of a notebook (specifically a Jupyter notebook). This brings together text and code into one place. \n",
    "</p>\n",
    "<p>\n",
    "The parts of this screen which have \"In [ ]:\" to the left are referred to as cells. \n",
    "Cells are pieces of code that can be run. You can run the cells by clicking on the cell and\n",
    "    pressing Control + Enter. \n",
    "</p>\n",
    "\n",
    "<p>\n",
    "If the cell generates output it will appear immediately after the cell in question when you do this.     \n",
    "</p>\n",
    "\n",
    "<p>\n",
    "Do not just click through all the cells without thinking about what each cell is going to do.    \n",
    "</p>    \n",
    "\n",
    "<p>\n",
    "There will be cells that are empty - you will need to fill them!    \n",
    "</p>    \n",
    "\n",
    "<p>\n",
    "It's important to note that the cells are in order and you should enter them in that order.    \n",
    "</p>     \n",
    "\n",
    "<p>\n",
    "    For this section, you will be largely running things interactively but it’s best to set up an editor window, type in there and then run the script (The F5 key will very much be your friend here). Be sure to import NumPy as before with the first cell below. \n",
    "    </p>\n",
    "    "
   ]
  },
  {
   "cell_type": "code",
   "execution_count": null,
   "metadata": {},
   "outputs": [],
   "source": [
    "import numpy as np"
   ]
  },
  {
   "cell_type": "markdown",
   "metadata": {},
   "source": [
    "<h1 id=\"numpy-and-matrices\">NumPy and Matrices</h1>"
   ]
  },
  {
   "cell_type": "markdown",
   "metadata": {},
   "source": [
    "<li><p>We can now discuss how one can set up arrays of more than one dimension. A simple <span class=\"math inline\">2  ×  3</span> matrix can be defined by typing</p>"
   ]
  },
  {
   "cell_type": "code",
   "execution_count": null,
   "metadata": {},
   "outputs": [],
   "source": [
    "A = np.array([[1.5,2,3], [4,5,6]])"
   ]
  },
  {
   "cell_type": "code",
   "execution_count": null,
   "metadata": {},
   "outputs": [],
   "source": [
    "print(A)"
   ]
  },
  {
   "cell_type": "code",
   "execution_count": null,
   "metadata": {},
   "outputs": [],
   "source": [
    "print(A.ndim)"
   ]
  },
  {
   "cell_type": "code",
   "execution_count": null,
   "metadata": {},
   "outputs": [],
   "source": [
    "print(A.shape)"
   ]
  },
  {
   "cell_type": "code",
   "execution_count": null,
   "metadata": {},
   "outputs": [],
   "source": [
    "print(A.size)"
   ]
  },
  {
   "cell_type": "code",
   "execution_count": null,
   "metadata": {},
   "outputs": [],
   "source": [
    "b = np.array([5.1,2.0,3.1])"
   ]
  },
  {
   "cell_type": "code",
   "execution_count": null,
   "metadata": {},
   "outputs": [],
   "source": [
    "print(b)"
   ]
  },
  {
   "cell_type": "code",
   "execution_count": null,
   "metadata": {},
   "outputs": [],
   "source": [
    "print(b.ndim)"
   ]
  },
  {
   "cell_type": "code",
   "execution_count": null,
   "metadata": {},
   "outputs": [],
   "source": [
    "print(b.shape)"
   ]
  },
  {
   "cell_type": "code",
   "execution_count": null,
   "metadata": {},
   "outputs": [],
   "source": [
    "print(b.size)"
   ]
  },
  {
   "cell_type": "markdown",
   "metadata": {},
   "source": [
    "<ul>\n",
    "<li><p>NumPy allows building arrays with more than 2 indices, but we’re not going to explore such objects.</p></li>\n",
    "<li><p>NumPy also has a class of objects which are explicitly referred to as of type <span>matrix</span>. Again, we’ll avoid using that class. All the objects we use (unless we explictely state otherwise will be of type <span>array</span>) even if we call them matrices or vectors.</p></li>\n",
    "<li><p>A number of functions exist to create matrices without having to explictly enter the data in them. So</p>\n",
    "</ul>"
   ]
  },
  {
   "cell_type": "code",
   "execution_count": null,
   "metadata": {},
   "outputs": [],
   "source": [
    "A = np.zeros((2,3))"
   ]
  },
  {
   "cell_type": "markdown",
   "metadata": {},
   "source": [
    "<p>creates a an array with the same dimensions as above but with zeros (<span><strong>check this!</strong></span>).</p>"
   ]
  },
  {
   "cell_type": "code",
   "execution_count": null,
   "metadata": {},
   "outputs": [],
   "source": [
    "A = np.ones((2,3))"
   ]
  },
  {
   "cell_type": "markdown",
   "metadata": {},
   "source": [
    "<p>creates a an array with the same dimensions as above but with ones (<span><strong>also check this!</strong></span>).</p>"
   ]
  },
  {
   "cell_type": "code",
   "execution_count": null,
   "metadata": {},
   "outputs": [],
   "source": [
    "A = np.empty((2,3))"
   ]
  },
  {
   "cell_type": "markdown",
   "metadata": {},
   "source": [
    "<p>creates a an array with the same dimensions as above but does not have any initialised - so you need to be a little bit more careful with this (<span><strong>why?</strong> </span>).</p>\n",
    "<p>If you have a matrix and you want to create a similarly sized matrix with one of the above three properties then you can do that by using the commands <span>zeros_like</span>, <span>ones_like</span> and <span>empty_like</span>. Type</p>"
   ]
  },
  {
   "cell_type": "code",
   "execution_count": null,
   "metadata": {},
   "outputs": [],
   "source": [
    "B = np.array([[1.5,2],[3, 4],[5,6]])"
   ]
  },
  {
   "cell_type": "code",
   "execution_count": null,
   "metadata": {},
   "outputs": [],
   "source": [
    "A = np.zeros_like(B)"
   ]
  },
  {
   "cell_type": "code",
   "execution_count": null,
   "metadata": {},
   "outputs": [],
   "source": [
    "print(B,A)"
   ]
  },
  {
   "cell_type": "code",
   "execution_count": null,
   "metadata": {},
   "outputs": [],
   "source": [
    "A = np.ones_like(B)"
   ]
  },
  {
   "cell_type": "code",
   "execution_count": null,
   "metadata": {},
   "outputs": [],
   "source": [
    "print(B,A)"
   ]
  },
  {
   "cell_type": "code",
   "execution_count": null,
   "metadata": {},
   "outputs": [],
   "source": [
    "A = np.empty_like(B)"
   ]
  },
  {
   "cell_type": "code",
   "execution_count": null,
   "metadata": {},
   "outputs": [],
   "source": [
    "print(B,A)"
   ]
  },
  {
   "cell_type": "markdown",
   "metadata": {},
   "source": [
    "<p>We can create an identity matrix for square matrices.</p>"
   ]
  },
  {
   "cell_type": "code",
   "execution_count": null,
   "metadata": {},
   "outputs": [],
   "source": [
    "A = np.eye(4)"
   ]
  },
  {
   "cell_type": "code",
   "execution_count": null,
   "metadata": {},
   "outputs": [],
   "source": [
    "print(A)"
   ]
  },
  {
   "cell_type": "markdown",
   "metadata": {},
   "source": [
    "<p>Finally, we can update individual elements as we would if we were accessing a regular 2 d array.</p>"
   ]
  },
  {
   "cell_type": "code",
   "execution_count": null,
   "metadata": {},
   "outputs": [],
   "source": [
    "A[0,1] = 7.0"
   ]
  },
  {
   "cell_type": "code",
   "execution_count": null,
   "metadata": {},
   "outputs": [],
   "source": [
    "print(A)"
   ]
  },
  {
   "cell_type": "markdown",
   "metadata": {},
   "source": [
    "<li><p>One can compute the vector that is created by multiplying a matrix with a vector using the <span>dot</span> command. Type</p>"
   ]
  },
  {
   "cell_type": "code",
   "execution_count": null,
   "metadata": {},
   "outputs": [],
   "source": [
    "b = np.array([5,2])"
   ]
  },
  {
   "cell_type": "code",
   "execution_count": null,
   "metadata": {},
   "outputs": [],
   "source": [
    "A = np.array([[0,4],[1,1]])"
   ]
  },
  {
   "cell_type": "code",
   "execution_count": null,
   "metadata": {},
   "outputs": [],
   "source": [
    "print(A.dot(b))"
   ]
  },
  {
   "cell_type": "markdown",
   "metadata": {},
   "source": [
    "<p>This is a simple 2 x 2 example but we can pick different matrix sizes. Type</p>"
   ]
  },
  {
   "cell_type": "code",
   "execution_count": null,
   "metadata": {},
   "outputs": [],
   "source": [
    "b = np.array([5,2,1])"
   ]
  },
  {
   "cell_type": "code",
   "execution_count": null,
   "metadata": {},
   "outputs": [],
   "source": [
    "A = np.array([[0,4,0],[1,1,1]])"
   ]
  },
  {
   "cell_type": "code",
   "execution_count": null,
   "metadata": {},
   "outputs": [],
   "source": [
    "print(A.dot(b))"
   ]
  },
  {
   "cell_type": "markdown",
   "metadata": {},
   "source": [
    "<p>But we need to be careful about the dimensions! Type</p>"
   ]
  },
  {
   "cell_type": "code",
   "execution_count": null,
   "metadata": {},
   "outputs": [],
   "source": [
    "A = np.array([[0,4],[0,1],[1,1]])"
   ]
  },
  {
   "cell_type": "code",
   "execution_count": null,
   "metadata": {},
   "outputs": [],
   "source": [
    "print(A.dot(b))"
   ]
  },
  {
   "cell_type": "markdown",
   "metadata": {},
   "source": [
    "<p>What happened here?</p></li>\n",
    "<li><p>One can likewise multiply matrices using the <span>dot</span> command. Type</p>"
   ]
  },
  {
   "cell_type": "code",
   "execution_count": null,
   "metadata": {},
   "outputs": [],
   "source": [
    "A = np.array([[0,4],[1,1]])"
   ]
  },
  {
   "cell_type": "code",
   "execution_count": null,
   "metadata": {},
   "outputs": [],
   "source": [
    "B = np.array([[1,2],[0,1]])"
   ]
  },
  {
   "cell_type": "code",
   "execution_count": null,
   "metadata": {},
   "outputs": [],
   "source": [
    "print(A.dot(B))"
   ]
  },
  {
   "cell_type": "markdown",
   "metadata": {},
   "source": [
    "<p><span><em>Task</em></span> Try this with different matrices of different sizes. Check that they match with the calculation in Topic 2.</p></li>\n"
   ]
  },
  {
   "cell_type": "code",
   "execution_count": null,
   "metadata": {},
   "outputs": [],
   "source": []
  },
  {
   "cell_type": "markdown",
   "metadata": {},
   "source": [
    "<li><p>Finally, one can compute the inverse of matrices using the <span>invert</span> function which is part of the <span>numpy.linalg</span> module. Type</p>"
   ]
  },
  {
   "cell_type": "code",
   "execution_count": null,
   "metadata": {},
   "outputs": [],
   "source": [
    "print(np.linalg.inv(A))"
   ]
  },
  {
   "cell_type": "markdown",
   "metadata": {},
   "source": [
    "<p>but we always have to aware that many matrices are singular (non-invertible) !</p>"
   ]
  },
  {
   "cell_type": "code",
   "execution_count": null,
   "metadata": {},
   "outputs": [],
   "source": [
    "A = np.array([[0,4],[0,8]])"
   ]
  },
  {
   "cell_type": "code",
   "execution_count": null,
   "metadata": {},
   "outputs": [],
   "source": [
    "print(np.linalg.inv(A))"
   ]
  },
  {
   "cell_type": "markdown",
   "metadata": {},
   "source": [
    "<h1 id=\"rotations-and-stretching\">Rotations and stretching</h1>"
   ]
  },
  {
   "cell_type": "markdown",
   "metadata": {},
   "source": [
    "<p>In the lectures, we discussed matrices that rotate or those that stretch (or ‘scrunch’). In this part of the lab exercise we will extend this case to 3 dimensions.</p>\n",
    "<p><span><strong>Rotations</strong></span> We noted that a rotation in 2 dimensions over an angle $\\theta$ is\n",
    "    $$\n",
    "    \\begin{pmatrix}\n",
    "\\cos \\theta & -\\sin \\theta \\\\\n",
    "\\sin \\theta & \\cos \\theta\n",
    "\\end{pmatrix}\n",
    "$$\n",
    "How could this be extended to three dimensions? the trick is to think of this\n",
    "in steps. In particular, let us suppose we want to do a rotation in 3 dimensional space\n",
    "but we only want to do  a rotation in the x-y plane. This means that we want to rotate\n",
    "the $x$ and $y$ coordinates but leave $z$ alone. What we want to do extend the above rotation but where we don't change the $z$ coordinate. This can be achieved with\n",
    "$$\n",
    "\\begin{pmatrix}\n",
    "\\cos \\theta & -\\sin \\theta & 0 \\\\\n",
    "\\sin \\theta & \\cos \\theta  & 0 \\\\\n",
    "0 & 0 & 1\n",
    "\\end{pmatrix}\n",
    "$$\n",
    "<em> Task </em> check this ! Take a vector $\\begin{pmatrix}x \\\\ y \\\\ z \\end{pmatrix}$ and multiply it by the above matrix. $x$ and $y$ will be changed but $z$ left alone."
   ]
  },
  {
   "cell_type": "code",
   "execution_count": null,
   "metadata": {},
   "outputs": [],
   "source": []
  },
  {
   "cell_type": "markdown",
   "metadata": {},
   "source": [
    "Correspondingly if we wanted to do the same operation with a rotation of $\\phi$ in the y-z\n",
    "plane then the rotation matrix is\n",
    "$$\n",
    "\\begin{pmatrix}\n",
    "1 & 0 & 0 \\\\\n",
    "0 & \\cos \\phi & -\\sin \\phi  \\\\\n",
    "0 & \\sin \\phi & \\cos \\phi\n",
    "\\end{pmatrix}\n",
    "$$\n"
   ]
  },
  {
   "cell_type": "markdown",
   "metadata": {},
   "source": [
    "<em> Task </em> what would be the corresponding vector for the x-z plane?"
   ]
  },
  {
   "cell_type": "code",
   "execution_count": null,
   "metadata": {},
   "outputs": [],
   "source": []
  },
  {
   "cell_type": "markdown",
   "metadata": {},
   "source": [
    "As an aside, it turns out that <em> any </em>  rotation in 3 dimensional space can be represented as a series of rotations in 2-dimensional planes, though those planes are\n",
    "not as straightforward as the above. These are the so called {\\it Euler angles}, \n",
    "but we will not consider this any further.\n",
    "\n",
    "The corresponding Python code when $\\theta=45^o$ and $\\phi=22.5^o$ is\n"
   ]
  },
  {
   "cell_type": "code",
   "execution_count": null,
   "metadata": {},
   "outputs": [],
   "source": [
    "import math\n",
    "from math import pi\n",
    "\n",
    "theta = pi/4.0\n",
    "cT = math.cos(theta)\n",
    "sT = math.sin(theta)\n",
    "R1 = np.array([[cT,-sT,0],[sT,cT,0],[0,0,1]])\n",
    "phi = pi/8.0\n",
    "cP = math.cos(phi)\n",
    "sP = math.sin(phi)\n",
    "R2 = np.array([[1,0,0], [0,cP,-sP],[0,sP,cP]])"
   ]
  },
  {
   "cell_type": "markdown",
   "metadata": {},
   "source": [
    "<em> Extension </em> write a Python function that takes an angle and the plane you want to\n",
    "rotate in (xy, yz, xz) and it returns a corresponding matrix."
   ]
  },
  {
   "cell_type": "code",
   "execution_count": null,
   "metadata": {},
   "outputs": [],
   "source": []
  },
  {
   "cell_type": "markdown",
   "metadata": {},
   "source": [
    "We can compute how vectors are transformed under these matrices. It is worth\n",
    "asking what happens to dot products of vectors before and after rotation."
   ]
  },
  {
   "cell_type": "markdown",
   "metadata": {},
   "source": [
    "<em>  Task</em> Write some Python to create two vectors $x$ and $y$ in 3 d space.\n",
    "Compute their dot product. Rotate $x$ and $y$ using `R1` and recompute the dot product. How do they compare? How do you think the lengths of these vectors will behave\n",
    "under rotation?"
   ]
  },
  {
   "cell_type": "code",
   "execution_count": null,
   "metadata": {},
   "outputs": [],
   "source": []
  },
  {
   "cell_type": "markdown",
   "metadata": {},
   "source": [
    "We can compute the inverse of `R1` simply by using the `linalg.inverse` function\n",
    "but it's also possible to determine it directly.\n",
    "\n",
    "<em> Task </em> What is the formula for the inverse of `R1`? (Think about the\n",
    "angle of rotation in the inverse). Write some code to compute the inverse of `R1`\n",
    "directly and compare with the computed inverse. Can we check that in a way where we don't have check so many entries?"
   ]
  },
  {
   "cell_type": "code",
   "execution_count": null,
   "metadata": {},
   "outputs": [],
   "source": []
  },
  {
   "cell_type": "markdown",
   "metadata": {},
   "source": [
    "Instead of thinking of one rotation we can put rotations together by multiplying them together. In the above case a composite rotation\n",
    "`R1.dot(R2)` corresponds to first applying the rotation `R2` followed by the\n",
    "rotation `R1`.\n",
    "\n",
    "<em> Task</em> Compute the above rotation and vice-vearsa (`R1` followed by `R2`).\n",
    "Are these matrices equal? What happens to a dot product?"
   ]
  },
  {
   "cell_type": "code",
   "execution_count": null,
   "metadata": {},
   "outputs": [],
   "source": []
  },
  {
   "cell_type": "markdown",
   "metadata": {},
   "source": [
    "<em> Task </em>Again, it's possible to compute the inverse of a composite set of rotations.\n",
    "Do this for the above rotations and compare it with the numerical inverse to check if it's correct."
   ]
  },
  {
   "cell_type": "code",
   "execution_count": null,
   "metadata": {},
   "outputs": [],
   "source": []
  },
  {
   "cell_type": "markdown",
   "metadata": {},
   "source": [
    "<h2 id=\"Stretching\">Stretching</h2>"
   ]
  },
  {
   "cell_type": "markdown",
   "metadata": {},
   "source": [
    "The corresponding stretch matrix in 3 dimensions is"
   ]
  },
  {
   "cell_type": "markdown",
   "metadata": {},
   "source": [
    "$$\n",
    "\\begin{pmatrix}\n",
    "a & 0 & 0 \\\\\n",
    "0 & b & 0 \\\\\n",
    "0 & 0 & c\n",
    "\\end{pmatrix}\n",
    "$$\n",
    "We can again carry out the same tasks, namely we can ask/compute\n",
    "<ul>\n",
    "    <li><p>what is the inverse of this matrix? Can we test that with direct numerical tests?</p>\n",
    "    <li><p> Can we compute composites of these transformations? Are they commutative?</p>\n",
    "    <li><p> What happens to the dot product of vectors before and after these transformations?</p>\n",
    "</ul>\n",
    "\n",
    "<em>Task</em> check this!"
   ]
  },
  {
   "cell_type": "code",
   "execution_count": null,
   "metadata": {},
   "outputs": [],
   "source": []
  },
  {
   "cell_type": "code",
   "execution_count": null,
   "metadata": {},
   "outputs": [],
   "source": []
  },
  {
   "cell_type": "code",
   "execution_count": null,
   "metadata": {},
   "outputs": [],
   "source": []
  },
  {
   "cell_type": "markdown",
   "metadata": {},
   "source": [
    "<em>Extension</em> check now combinations of rotations and stretches under above."
   ]
  },
  {
   "cell_type": "markdown",
   "metadata": {},
   "source": [
    "<h1 id=\"Adjacency-matrix\">Adjacency matrix</h1>\n",
    "\n",
    "As discussed in the lectures, the adjacency matrix of a graph $\\mathbf{N}$ can be used to\n",
    "compute how many paths exists between two arbitrary nodes of length $p$ (by looking at\n",
    "the corresponding entry for $\\mathbf{N}^p$).\n",
    "\n",
    "<em> Task</em> write Python code that will create the adjacency matrix for the graph\n",
    "discussed in the lectures. Compute $\\mathbf{N}^2$, $\\mathbf{N}^3$ and $\\mathbf{N}^4$ and check if the results from these matrices correspond to the number of paths in the graph."
   ]
  },
  {
   "cell_type": "code",
   "execution_count": null,
   "metadata": {},
   "outputs": [],
   "source": []
  },
  {
   "cell_type": "markdown",
   "metadata": {},
   "source": [
    "<em> Task</em> If one has a graph of $m$ nodes, then the maximum possible path between two nodes is $m$ (show this). This gives a method (albeit a deeply inefficient one)  to determine if a graph is disconnected. If we have a corresponding adjacency matrix\n",
    "$\\mathbf{A}$ then if we can compute $\\mathbf{A}^2$, $\\mathbf{A}^3$, $\\dots$ $\\mathbf{A}^m$\n",
    "and we find that all of these cases we find that a particular entry remains zero, then\n",
    "no path lies between those nodes. Write code to read in an adjacency matrix from a file,\n",
    "progressively compute powers of the adjacency matrix  and record what entries are non-zero. Continue comoputing powers until all entries have a non-zero entry or the maximum number of powers have been computed."
   ]
  },
  {
   "cell_type": "code",
   "execution_count": null,
   "metadata": {},
   "outputs": [],
   "source": []
  }
 ],
 "metadata": {
  "kernelspec": {
   "display_name": "Python 2",
   "language": "python",
   "name": "python2"
  },
  "language_info": {
   "codemirror_mode": {
    "name": "ipython",
    "version": 2
   },
   "file_extension": ".py",
   "mimetype": "text/x-python",
   "name": "python",
   "nbconvert_exporter": "python",
   "pygments_lexer": "ipython2",
   "version": "2.7.15"
  }
 },
 "nbformat": 4,
 "nbformat_minor": 2
}

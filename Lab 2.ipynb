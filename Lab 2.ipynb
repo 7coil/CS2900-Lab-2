{
 "cells": [
  {
   "cell_type": "markdown",
   "metadata": {},
   "source": [
    "<div id=\"header\">\n",
    "<h1 class=\"title\">CS2900 :- Topic 2 Lab</h1>\n",
    "<h2 class=\"author\">Hugh Shanahan</h2>\n",
    "</div>"
   ]
  },
  {
   "cell_type": "markdown",
   "metadata": {},
   "source": [
    "<p>The learning outcomes of this session are</p>\n",
    "<ul>\n",
    "<li><p>to have an introductory understanding of matrix notation and related tools in NumPy.</p></li>\n",
    "<li><p>To become familiar with the concept of rotations and other linear transformations on Vectors.</p></li>\n",
    "<li><p>To apply the concept of adjacency matrices in determining numbers of walks between nodes in a graph.</p></li>\n",
    "</ul>\n"
   ]
  },
  {
   "cell_type": "markdown",
   "metadata": {},
   "source": [
    "<h1 id=\"numpy-and-matrices\">NumPy and Matrices</h1>"
   ]
  },
  {
   "cell_type": "markdown",
   "metadata": {},
   "source": [
    "<ol>\n",
    "<li><p>Log into <span>teaching.cim.rhul.ac.uk</span>.</p></li>\n",
    "<li><p>Change into your directory and start idle.</p></li>\n",
    "<li><p>For this section, you will be largely running things interactively but it’s best to set up an editor window, type in there and then run the script (The F5 key will very much be your friend here). Be sure to import NumPy as before with</p></li>\n",
    "<li><p>We can now discuss how one can set up arrays of more than one dimension. A simple <span class=\"math inline\">2  ×  3</span> matrix can be defined by typing</p></li>\n"
   ]
  },
  {
   "cell_type": "code",
   "execution_count": null,
   "metadata": {},
   "outputs": [],
   "source": [
    "import numpy as np"
   ]
  },
  {
   "cell_type": "markdown",
   "metadata": {},
   "source": [
    "<li><p>We can now discuss how one can set up arrays of more than one dimension. A simple <span class=\"math inline\">2  ×  3</span> matrix can be defined by typing</p>"
   ]
  },
  {
   "cell_type": "code",
   "execution_count": null,
   "metadata": {},
   "outputs": [],
   "source": [
    "A = np.array([[1.5,2,3], [4,5,6]])"
   ]
  },
  {
   "cell_type": "code",
   "execution_count": null,
   "metadata": {},
   "outputs": [],
   "source": [
    "print(A)"
   ]
  },
  {
   "cell_type": "code",
   "execution_count": null,
   "metadata": {},
   "outputs": [],
   "source": [
    "print(A.ndim)"
   ]
  },
  {
   "cell_type": "code",
   "execution_count": null,
   "metadata": {},
   "outputs": [],
   "source": [
    "print(A.shape)"
   ]
  },
  {
   "cell_type": "code",
   "execution_count": null,
   "metadata": {},
   "outputs": [],
   "source": [
    "print(A.size)"
   ]
  },
  {
   "cell_type": "code",
   "execution_count": null,
   "metadata": {},
   "outputs": [],
   "source": [
    "b = np.array([5.1,2.0,3.1])"
   ]
  },
  {
   "cell_type": "code",
   "execution_count": null,
   "metadata": {},
   "outputs": [],
   "source": [
    "print(b)"
   ]
  },
  {
   "cell_type": "code",
   "execution_count": null,
   "metadata": {},
   "outputs": [],
   "source": [
    "print(b.ndim)"
   ]
  },
  {
   "cell_type": "code",
   "execution_count": null,
   "metadata": {},
   "outputs": [],
   "source": [
    "print(b.shape)"
   ]
  },
  {
   "cell_type": "code",
   "execution_count": null,
   "metadata": {},
   "outputs": [],
   "source": [
    "print(b.size)"
   ]
  },
  {
   "cell_type": "markdown",
   "metadata": {},
   "source": [
    "<ul>\n",
    "<li><p>NumPy allows building arrays with more than 2 indices, but we’re not going to explore such objects.</p></li>\n",
    "<li><p>NumPy also has a class of objects which are explicitly referred to as of type <span>matrix</span>. Again, we’ll avoid using that class. All the objects we use (unless we explictely state otherwise will be of type <span>array</span>) even if we call them matrices or vectors.</p></li>\n",
    "<li><p>A number of functions exist to create matrices without having to explictly enter the data in them. So</p>\n",
    "</ul>"
   ]
  },
  {
   "cell_type": "code",
   "execution_count": null,
   "metadata": {},
   "outputs": [],
   "source": [
    "A = np.zeros((2,3))"
   ]
  },
  {
   "cell_type": "markdown",
   "metadata": {},
   "source": [
    "<p>creates a an array with the same dimensions as above but with zeros (<span><strong>check this!</strong></span>).</p>"
   ]
  },
  {
   "cell_type": "code",
   "execution_count": null,
   "metadata": {},
   "outputs": [],
   "source": [
    "A = np.ones((2,3))"
   ]
  },
  {
   "cell_type": "markdown",
   "metadata": {},
   "source": [
    "<p>creates a an array with the same dimensions as above but with ones (<span><strong>also check this!</strong></span>).</p>"
   ]
  },
  {
   "cell_type": "code",
   "execution_count": null,
   "metadata": {},
   "outputs": [],
   "source": [
    "A = np.empty((2,3))"
   ]
  },
  {
   "cell_type": "markdown",
   "metadata": {},
   "source": [
    "<p>creates a an array with the same dimensions as above but does not have any initialised - so you need to be a little bit more careful with this (<span><strong>why?</strong> </span>).</p>\n",
    "<p>If you have a matrix and you want to create a similarly sized matrix with one of the above three properties then you can do that by using the commands <span>zeros_like</span>, <span>ones_like</span> and <span>empty_like</span>. Type</p>"
   ]
  },
  {
   "cell_type": "code",
   "execution_count": null,
   "metadata": {},
   "outputs": [],
   "source": [
    "B = np.array([[1.5,2],[3, 4],[5,6]])"
   ]
  },
  {
   "cell_type": "code",
   "execution_count": null,
   "metadata": {},
   "outputs": [],
   "source": [
    "A = np.zeros_like(B)"
   ]
  },
  {
   "cell_type": "code",
   "execution_count": null,
   "metadata": {},
   "outputs": [],
   "source": [
    "print(B,A)"
   ]
  },
  {
   "cell_type": "code",
   "execution_count": null,
   "metadata": {},
   "outputs": [],
   "source": [
    "A = np.ones_like(B)"
   ]
  },
  {
   "cell_type": "code",
   "execution_count": null,
   "metadata": {},
   "outputs": [],
   "source": [
    "print(B,A)"
   ]
  },
  {
   "cell_type": "code",
   "execution_count": null,
   "metadata": {},
   "outputs": [],
   "source": [
    "A = np.empty_like(B)"
   ]
  },
  {
   "cell_type": "code",
   "execution_count": null,
   "metadata": {},
   "outputs": [],
   "source": [
    "print(B,A)"
   ]
  },
  {
   "cell_type": "markdown",
   "metadata": {},
   "source": [
    "<p>We can create an identity matrix for square matrices.</p>"
   ]
  },
  {
   "cell_type": "code",
   "execution_count": null,
   "metadata": {},
   "outputs": [],
   "source": [
    "A = np.eye(4)"
   ]
  },
  {
   "cell_type": "code",
   "execution_count": null,
   "metadata": {},
   "outputs": [],
   "source": [
    "print(A)"
   ]
  },
  {
   "cell_type": "markdown",
   "metadata": {},
   "source": [
    "<p>Finally, we can update individual elements as we would if we were accessing a regular 2 d array.</p>"
   ]
  },
  {
   "cell_type": "code",
   "execution_count": null,
   "metadata": {},
   "outputs": [],
   "source": [
    "A[0,1] = 7.0"
   ]
  },
  {
   "cell_type": "code",
   "execution_count": null,
   "metadata": {},
   "outputs": [],
   "source": [
    "print(A)"
   ]
  },
  {
   "cell_type": "markdown",
   "metadata": {},
   "source": [
    "<li><p>One can compute the vector that is created by multiplying a matrix with a vector using the <span>dot</span> command. Type</p>"
   ]
  },
  {
   "cell_type": "code",
   "execution_count": null,
   "metadata": {},
   "outputs": [],
   "source": [
    "b = np.array([5,2])"
   ]
  },
  {
   "cell_type": "code",
   "execution_count": null,
   "metadata": {},
   "outputs": [],
   "source": [
    "A = np.array([[0,4],[1,1]])"
   ]
  },
  {
   "cell_type": "code",
   "execution_count": null,
   "metadata": {},
   "outputs": [],
   "source": [
    "print(A.dot(b))"
   ]
  },
  {
   "cell_type": "markdown",
   "metadata": {},
   "source": [
    "<p>This is a simple 2 x 2 example but we can pick different matrix sizes. Type</p>"
   ]
  },
  {
   "cell_type": "code",
   "execution_count": null,
   "metadata": {},
   "outputs": [],
   "source": [
    "b = np.array([5,2,1])"
   ]
  },
  {
   "cell_type": "code",
   "execution_count": null,
   "metadata": {},
   "outputs": [],
   "source": [
    "A = np.array([[0,4,0],[1,1,1]])"
   ]
  },
  {
   "cell_type": "code",
   "execution_count": null,
   "metadata": {},
   "outputs": [],
   "source": [
    "print(A.dot(b))"
   ]
  },
  {
   "cell_type": "markdown",
   "metadata": {},
   "source": [
    "<p>But we need to be careful about the dimensions! Type</p>"
   ]
  },
  {
   "cell_type": "code",
   "execution_count": null,
   "metadata": {},
   "outputs": [],
   "source": [
    "A = np.array([[0,4],[0,1],[1,1]])"
   ]
  },
  {
   "cell_type": "code",
   "execution_count": null,
   "metadata": {},
   "outputs": [],
   "source": [
    "print(A.dot(b))"
   ]
  },
  {
   "cell_type": "markdown",
   "metadata": {},
   "source": [
    "<p>What happened here?</p></li>\n",
    "<li><p>One can likewise multiply matrices using the <span>dot</span> command. Type</p>"
   ]
  },
  {
   "cell_type": "code",
   "execution_count": null,
   "metadata": {},
   "outputs": [],
   "source": [
    "A = np.array([[0,4],[1,1]])"
   ]
  },
  {
   "cell_type": "code",
   "execution_count": null,
   "metadata": {},
   "outputs": [],
   "source": [
    "B = np.array([[1,2],[0,1]])"
   ]
  },
  {
   "cell_type": "code",
   "execution_count": null,
   "metadata": {},
   "outputs": [],
   "source": [
    "print(A.dot(B))"
   ]
  },
  {
   "cell_type": "markdown",
   "metadata": {},
   "source": [
    "<p><span><em>Task</em></span> Try this with different matrices of different sizes. Check that they match with the calculation in Topic 2.</p></li>\n"
   ]
  },
  {
   "cell_type": "code",
   "execution_count": null,
   "metadata": {},
   "outputs": [],
   "source": []
  },
  {
   "cell_type": "markdown",
   "metadata": {},
   "source": [
    "<li><p>Finally, one can compute the inverse of matrices using the <span>invert</span> function which is part of the <span>numpy.linalg</span> module. Type</p>"
   ]
  },
  {
   "cell_type": "code",
   "execution_count": null,
   "metadata": {},
   "outputs": [],
   "source": [
    "print(np.linalg.inv(A))"
   ]
  },
  {
   "cell_type": "markdown",
   "metadata": {},
   "source": [
    "<p>but we always have to aware that many matrices are singular (non-invertible) !</p>"
   ]
  },
  {
   "cell_type": "code",
   "execution_count": null,
   "metadata": {},
   "outputs": [],
   "source": [
    "A = np.array([[0,4],[0,8]])"
   ]
  },
  {
   "cell_type": "code",
   "execution_count": null,
   "metadata": {},
   "outputs": [],
   "source": [
    "print(np.linalg.inv(A))"
   ]
  },
  {
   "cell_type": "markdown",
   "metadata": {},
   "source": [
    "<h1 id=\"rotations-and-stretching\">Rotations and stretching</h1>"
   ]
  },
  {
   "cell_type": "markdown",
   "metadata": {},
   "source": [
    "<p>In the lectures, we discussed matrices that rotate or those that stretch (or ‘scrunch’). In this part of the lab exercise we will extend this case to 3 dimensions.</p>\n",
    "<p><span><strong>Rotations</strong></span> We noted that a rotation in 2 dimensions over an angle $\\theta$ is\n",
    "    $$\n",
    "    \\begin{pmatrix}\n",
    "\\cos \\theta & -\\sin \\theta \\\\\n",
    "\\sin \\theta & \\cos \\theta\n",
    "\\end{pmatrix}\n",
    "$$\n",
    "How could this be extended to three dimensions? the trick is to think of this\n",
    "in steps. In particular, let us suppose we want to do a rotation in 3 dimensional space\n",
    "but we only want to do  a rotation in the x-y plane. This means that we want to rotate\n",
    "the $x$ and $y$ coordinates but leave $z$ alone. What we want to do extend the above rotation but where we don't change the $z$ coordinate. This can be achieved with\n",
    "$$\n",
    "\\begin{pmatrix}\n",
    "\\cos \\theta & -\\sin \\theta & 0 \\\\\n",
    "\\sin \\theta & \\cos \\theta  & 0 \\\\\n",
    "0 & 0 & 1\n",
    "\\end{pmatrix}\n",
    "$$\n",
    "<em> Task </em> check this ! Take a vector $\\begin{pmatrix}x \\\\ y \\\\ z \\end{pmatrix}$ and multiply it by the above matrix. $x$ and $y$ will be changed but $z$ left alone."
   ]
  },
  {
   "cell_type": "code",
   "execution_count": null,
   "metadata": {},
   "outputs": [],
   "source": []
  },
  {
   "cell_type": "markdown",
   "metadata": {},
   "source": [
    "Correspondingly if we wanted to do the same operation with a rotation of $\\phi$ in the y-z\n",
    "plane then the rotation matrix is\n",
    "$$\n",
    "\\begin{pmatrix}\n",
    "1 & 0 & 0 \\\\\n",
    "0 & \\cos \\phi & -\\sin \\phi  \\\\\n",
    "0 & \\sin \\phi & \\cos \\phi\n",
    "\\end{pmatrix}\n",
    "$$\n"
   ]
  },
  {
   "cell_type": "markdown",
   "metadata": {},
   "source": [
    "<em> Task </em> what would be the corresponding vector for the x-z plane?"
   ]
  },
  {
   "cell_type": "code",
   "execution_count": null,
   "metadata": {},
   "outputs": [],
   "source": []
  },
  {
   "cell_type": "markdown",
   "metadata": {},
   "source": [
    "As an aside, it turns out that <em> any </em>  rotation in 3 dimensional space can be represented as a series of rotations in 2-dimensional planes, though those planes are\n",
    "not as straightforward as the above. These are the so called {\\it Euler angles}, \n",
    "but we will not consider this any further.\n",
    "\n",
    "The corresponding Python code when $\\theta=45^o$ and $\\phi=22.5^o$ is\n"
   ]
  },
  {
   "cell_type": "code",
   "execution_count": null,
   "metadata": {},
   "outputs": [],
   "source": [
    "import math\n",
    "from math import pi\n",
    "\n",
    "theta = pi/4.0\n",
    "cT = math.cos(theta)\n",
    "sT = math.sin(theta)\n",
    "R1 = np.array([[cT,-sT,0],[sT,cT,0],[0,0,1]])\n",
    "phi = pi/8.0\n",
    "cP = math.cos(phi)\n",
    "sP = math.sin(phi)\n",
    "R2 = np.array([[1,0,0], [0,cP,-sP],[0,sP,cP]])"
   ]
  },
  {
   "cell_type": "markdown",
   "metadata": {},
   "source": [
    "<em> Extension </em> write a Python function that takes an angle and the plane you want to\n",
    "rotate in (xy, yz, xz) and it returns a corresponding matrix."
   ]
  },
  {
   "cell_type": "code",
   "execution_count": null,
   "metadata": {},
   "outputs": [],
   "source": []
  },
  {
   "cell_type": "markdown",
   "metadata": {},
   "source": [
    "We can compute how vectors are transformed under these matrices. It is worth\n",
    "asking what happens to dot products of vectors before and after rotation."
   ]
  },
  {
   "cell_type": "markdown",
   "metadata": {},
   "source": [
    "<em>  Task</em> Write some Python to create two vectors $x$ and $y$ in 3 d space.\n",
    "Compute their dot product. Rotate $x$ and $y$ using {\\tt R1} and recompute the dot product. How do they compare? How do you think the lengths of these vectors will behave\n",
    "under rotation?"
   ]
  },
  {
   "cell_type": "code",
   "execution_count": null,
   "metadata": {},
   "outputs": [],
   "source": []
  }
 ],
 "metadata": {
  "kernelspec": {
   "display_name": "Python 2",
   "language": "python",
   "name": "python2"
  },
  "language_info": {
   "codemirror_mode": {
    "name": "ipython",
    "version": 2
   },
   "file_extension": ".py",
   "mimetype": "text/x-python",
   "name": "python",
   "nbconvert_exporter": "python",
   "pygments_lexer": "ipython2",
   "version": "2.7.15"
  }
 },
 "nbformat": 4,
 "nbformat_minor": 2
}

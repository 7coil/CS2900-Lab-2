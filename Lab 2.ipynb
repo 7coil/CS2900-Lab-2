{
 "cells": [
  {
   "cell_type": "markdown",
   "metadata": {},
   "source": [
    "<div id=\"header\">\n",
    "<h1 class=\"title\">CS2900 :- Topic 2 Lab</h1>\n",
    "<h2 class=\"author\">Hugh Shanahan</h2>\n",
    "</div>"
   ]
  },
  {
   "cell_type": "markdown",
   "metadata": {},
   "source": [
    "<p>The learning outcomes of this session are</p>\n",
    "<ul>\n",
    "<li><p>to have an introductory understanding of matrix notation and related tools in NumPy.</p></li>\n",
    "<li><p>To become familiar with the concept of rotations and other linear transformations on Vectors.</p></li>\n",
    "<li><p>To apply the concept of adjacency matrices in determining numbers of walks between nodes in a graph.</p></li>\n",
    "</ul>\n"
   ]
  },
  {
   "cell_type": "markdown",
   "metadata": {},
   "source": [
    "<h1 id=\"numpy-and-matrices\">NumPy and Matrices</h1>"
   ]
  },
  {
   "cell_type": "markdown",
   "metadata": {},
   "source": [
    "<li><p>We can now discuss how one can set up arrays of more than one dimension. A simple <span class=\"math inline\">2  ×  3</span> matrix can be defined by typing</p>"
   ]
  },
  {
   "cell_type": "code",
   "execution_count": null,
   "metadata": {},
   "outputs": [],
   "source": [
    "import numpy as np"
   ]
  },
  {
   "cell_type": "markdown",
   "metadata": {},
   "source": [
    "Defining a matrix is very much an extension of how vectors are defined, i.e. by adding additional rows."
   ]
  },
  {
   "cell_type": "code",
   "execution_count": null,
   "metadata": {},
   "outputs": [],
   "source": [
    "A = np.array([[1.5,2,3], [4,5,6]])"
   ]
  },
  {
   "cell_type": "markdown",
   "metadata": {},
   "source": [
    "Likewise one can print out the contents of an array and find out its dimensions (always 2 for us), the number of rows and columns and how many entries it has in total."
   ]
  },
  {
   "cell_type": "code",
   "execution_count": null,
   "metadata": {},
   "outputs": [],
   "source": [
    "print(A)"
   ]
  },
  {
   "cell_type": "code",
   "execution_count": null,
   "metadata": {},
   "outputs": [],
   "source": [
    "print(A.ndim)"
   ]
  },
  {
   "cell_type": "code",
   "execution_count": null,
   "metadata": {},
   "outputs": [],
   "source": [
    "print(A.shape)"
   ]
  },
  {
   "cell_type": "code",
   "execution_count": null,
   "metadata": {},
   "outputs": [],
   "source": [
    "print(A.size)"
   ]
  },
  {
   "cell_type": "markdown",
   "metadata": {},
   "source": [
    "We can use the same commands for a vector - NumPy does not make a distinction between a vector and a matrix. For NumPy, vectors are just a special instance of an array."
   ]
  },
  {
   "cell_type": "code",
   "execution_count": null,
   "metadata": {},
   "outputs": [],
   "source": [
    "b = np.array([5.1,2.0,3.1])"
   ]
  },
  {
   "cell_type": "code",
   "execution_count": null,
   "metadata": {},
   "outputs": [],
   "source": [
    "print(b)"
   ]
  },
  {
   "cell_type": "code",
   "execution_count": null,
   "metadata": {},
   "outputs": [],
   "source": [
    "print(b.ndim)"
   ]
  },
  {
   "cell_type": "code",
   "execution_count": null,
   "metadata": {},
   "outputs": [],
   "source": [
    "print(b.shape)"
   ]
  },
  {
   "cell_type": "code",
   "execution_count": null,
   "metadata": {},
   "outputs": [],
   "source": [
    "print(b.size)"
   ]
  },
  {
   "cell_type": "markdown",
   "metadata": {},
   "source": [
    "<ul>\n",
    "<li><p>NumPy allows building arrays with more than 2 indices, but we’re not going to explore such objects.</p></li>\n",
    "<li><p>NumPy also has a class of objects which are explicitly referred to as of type <span>matrix</span>. Again, we’ll avoid using that class. All the objects we use (unless we explictely state otherwise will be of type <span>array</span>) even if we call them matrices or vectors.</p></li>\n",
    "<li><p>A number of functions exist to create matrices without having to explictly enter the data in them. So</p>\n",
    "</ul>"
   ]
  },
  {
   "cell_type": "code",
   "execution_count": null,
   "metadata": {},
   "outputs": [],
   "source": [
    "A = np.zeros((2,3))"
   ]
  },
  {
   "cell_type": "markdown",
   "metadata": {},
   "source": [
    "creates a an array with the same number of rows and columns as above but with zeros.\n",
    "\n",
    "**CHECKPOINT In the cell below type in a command to check the number of rows and columns**"
   ]
  },
  {
   "cell_type": "code",
   "execution_count": null,
   "metadata": {},
   "outputs": [],
   "source": []
  },
  {
   "cell_type": "code",
   "execution_count": null,
   "metadata": {},
   "outputs": [],
   "source": [
    "A = np.ones((2,3))"
   ]
  },
  {
   "cell_type": "markdown",
   "metadata": {},
   "source": [
    "creates a an array with the same dimensions as above but with ones (<span><strong>also check this!</strong></span>).\n",
    "\n",
    "**CHECKPOINT In the cell below type in a command to check the number of rows and columns**"
   ]
  },
  {
   "cell_type": "code",
   "execution_count": null,
   "metadata": {},
   "outputs": [],
   "source": []
  },
  {
   "cell_type": "code",
   "execution_count": null,
   "metadata": {},
   "outputs": [],
   "source": [
    "A = np.empty((2,3))"
   ]
  },
  {
   "cell_type": "markdown",
   "metadata": {},
   "source": [
    "<p>creates an array with the same dimensions as above but does not have any  of the entries initialised. This can be faster than using zeros but you need to assign values and to be careful that you have done so (<span><strong>why?</strong> </span>).</p>\n",
    "<p>If you have a matrix and you want to create a similarly sized matrix with one of the above three properties then you can do that by using the commands <span>zeros_like</span>, <span>ones_like</span> and <span>empty_like</span>. Type</p>"
   ]
  },
  {
   "cell_type": "code",
   "execution_count": null,
   "metadata": {},
   "outputs": [],
   "source": [
    "B = np.array([[1.5,2],[3, 4],[5,6]])"
   ]
  },
  {
   "cell_type": "code",
   "execution_count": null,
   "metadata": {},
   "outputs": [],
   "source": [
    "A = np.zeros_like(B)"
   ]
  },
  {
   "cell_type": "code",
   "execution_count": null,
   "metadata": {},
   "outputs": [],
   "source": [
    "print(B,A)"
   ]
  },
  {
   "cell_type": "code",
   "execution_count": null,
   "metadata": {},
   "outputs": [],
   "source": [
    "A = np.ones_like(B)"
   ]
  },
  {
   "cell_type": "code",
   "execution_count": null,
   "metadata": {},
   "outputs": [],
   "source": [
    "print(B,A)"
   ]
  },
  {
   "cell_type": "code",
   "execution_count": null,
   "metadata": {},
   "outputs": [],
   "source": [
    "A = np.empty_like(B)"
   ]
  },
  {
   "cell_type": "code",
   "execution_count": null,
   "metadata": {},
   "outputs": [],
   "source": [
    "print(B,A)"
   ]
  },
  {
   "cell_type": "markdown",
   "metadata": {},
   "source": [
    "**CHECKPOINT create a matrix that has the same dimensions as the matrix \n",
    "$$\\begin{pmatrix} \n",
    "1&1&2&2 \\\\\n",
    "3&2&1&8\n",
    "\\end{pmatrix}$$\n",
    "with ones in all its entries.**"
   ]
  },
  {
   "cell_type": "code",
   "execution_count": null,
   "metadata": {},
   "outputs": [],
   "source": []
  },
  {
   "cell_type": "markdown",
   "metadata": {},
   "source": [
    "<p>We can create an identity matrix for square matrices.</p>"
   ]
  },
  {
   "cell_type": "code",
   "execution_count": null,
   "metadata": {},
   "outputs": [],
   "source": [
    "A = np.eye(4)"
   ]
  },
  {
   "cell_type": "code",
   "execution_count": null,
   "metadata": {},
   "outputs": [],
   "source": [
    "print(A)"
   ]
  },
  {
   "cell_type": "markdown",
   "metadata": {},
   "source": [
    "<p>Finally, we can update individual elements as we would if we were accessing a regular 2 d array.</p>"
   ]
  },
  {
   "cell_type": "code",
   "execution_count": null,
   "metadata": {},
   "outputs": [],
   "source": [
    "A[0,1] = 7.0"
   ]
  },
  {
   "cell_type": "code",
   "execution_count": null,
   "metadata": {},
   "outputs": [],
   "source": [
    "print(A)"
   ]
  },
  {
   "cell_type": "markdown",
   "metadata": {},
   "source": [
    "<li><p>One can compute the vector that is created by multiplying a matrix with a vector using the <span>matmul</span> command. Type</p>"
   ]
  },
  {
   "cell_type": "code",
   "execution_count": null,
   "metadata": {},
   "outputs": [],
   "source": [
    "b = np.array([5,2])"
   ]
  },
  {
   "cell_type": "code",
   "execution_count": null,
   "metadata": {},
   "outputs": [],
   "source": [
    "A = np.array([[0,4],[1,1]])"
   ]
  },
  {
   "cell_type": "code",
   "execution_count": null,
   "metadata": {},
   "outputs": [],
   "source": [
    "print(np.matmul(A,b))"
   ]
  },
  {
   "cell_type": "markdown",
   "metadata": {},
   "source": [
    "<p>This is a simple 2 x 2 example but we can pick different matrix sizes. Type</p>"
   ]
  },
  {
   "cell_type": "code",
   "execution_count": null,
   "metadata": {},
   "outputs": [],
   "source": [
    "b = np.array([5,2,1])"
   ]
  },
  {
   "cell_type": "code",
   "execution_count": null,
   "metadata": {},
   "outputs": [],
   "source": [
    "A = np.array([[0,4,0],[1,1,1]])"
   ]
  },
  {
   "cell_type": "code",
   "execution_count": null,
   "metadata": {},
   "outputs": [],
   "source": [
    "print(np.matmul(A,b))"
   ]
  },
  {
   "cell_type": "markdown",
   "metadata": {},
   "source": [
    "<p>But we need to be careful about the dimensions! Type</p>"
   ]
  },
  {
   "cell_type": "code",
   "execution_count": null,
   "metadata": {},
   "outputs": [],
   "source": [
    "A = np.array([[0,4],[0,1],[1,1]])"
   ]
  },
  {
   "cell_type": "code",
   "execution_count": null,
   "metadata": {},
   "outputs": [],
   "source": [
    "print(np.matmul(A,b))"
   ]
  },
  {
   "cell_type": "markdown",
   "metadata": {},
   "source": [
    "<p>What happened here?</p></li>\n",
    "<li><p>One can likewise multiply matrices using the <span>matmul</span> command. Type</p>"
   ]
  },
  {
   "cell_type": "code",
   "execution_count": null,
   "metadata": {},
   "outputs": [],
   "source": [
    "A = np.array([[0,4],[1,1]])"
   ]
  },
  {
   "cell_type": "code",
   "execution_count": null,
   "metadata": {},
   "outputs": [],
   "source": [
    "B = np.array([[1,2],[0,1]])"
   ]
  },
  {
   "cell_type": "code",
   "execution_count": null,
   "metadata": {},
   "outputs": [],
   "source": [
    "print(np.matmul(A,B))"
   ]
  },
  {
   "cell_type": "markdown",
   "metadata": {},
   "source": [
    "**CHECKPOINT if \n",
    "$$\n",
    "{\\mathbf R} = \\begin{pmatrix}3& 2 & 1 \\\\ 1 & -1 & 2\\end{pmatrix}\n",
    "$$\n",
    "and\n",
    "$$\n",
    "\\underline{x} = \\begin{pmatrix} 1 \\\\ 2 \\\\ -1\\end{pmatrix}\n",
    "$$\n",
    "Use NumPy to compute ${\\mathbf R}\\underline{x}$**"
   ]
  },
  {
   "cell_type": "code",
   "execution_count": null,
   "metadata": {},
   "outputs": [],
   "source": []
  },
  {
   "cell_type": "markdown",
   "metadata": {},
   "source": [
    "<li><p>Finally, one can compute the inverse of matrices using the <span>invert</span> function which is part of the <span>numpy.linalg</span> module. Type</p>"
   ]
  },
  {
   "cell_type": "code",
   "execution_count": null,
   "metadata": {},
   "outputs": [],
   "source": [
    "print(np.linalg.inv(A))"
   ]
  },
  {
   "cell_type": "markdown",
   "metadata": {},
   "source": [
    "<p>but we always have to aware that many matrices are singular (non-invertible) !</p>"
   ]
  },
  {
   "cell_type": "code",
   "execution_count": null,
   "metadata": {},
   "outputs": [],
   "source": [
    "A = np.array([[0,4],[0,8]])"
   ]
  },
  {
   "cell_type": "code",
   "execution_count": null,
   "metadata": {},
   "outputs": [],
   "source": [
    "print(np.linalg.inv(A))"
   ]
  },
  {
   "cell_type": "markdown",
   "metadata": {},
   "source": [
    "<h1 id=\"rotations-and-stretching\">Rotations and stretching</h1>"
   ]
  },
  {
   "cell_type": "markdown",
   "metadata": {},
   "source": [
    "<p>In the lectures, we discussed matrices that rotate or those that stretch (or ‘scrunch’). In this part of the lab exercise we will extend this case to 3 dimensions.</p>\n",
    "<p><span><strong>Rotations</strong></span> We noted that a rotation in 2 dimensions over an angle $\\theta$ is\n",
    "    $$\n",
    "    \\begin{pmatrix}\n",
    "\\cos \\theta & -\\sin \\theta \\\\\n",
    "\\sin \\theta & \\cos \\theta\n",
    "\\end{pmatrix}\n",
    "$$\n",
    "How could this be extended to three dimensions? the trick is to think of this\n",
    "in steps. In particular, let us suppose we want to do a rotation in 3 dimensional space\n",
    "but we only want to do  a rotation in the x-y plane. This means that we want to rotate\n",
    "the $x$ and $y$ coordinates but leave $z$ alone. What we want to do extend the above rotation but where we don't change the $z$ coordinate. This can be achieved with\n",
    "$$\n",
    "\\begin{pmatrix}\n",
    "\\cos \\theta & -\\sin \\theta & 0 \\\\\n",
    "\\sin \\theta & \\cos \\theta  & 0 \\\\\n",
    "0 & 0 & 1\n",
    "\\end{pmatrix}\n",
    "$$\n",
    "\n",
    "**CHECKPOINT Take a vector $\\begin{pmatrix}x \\\\ y \\\\ z \\end{pmatrix}$ and multiply it by the above matrix. \n",
    "    What happened to $x$ and $y$ when it is multiplied by the above matrix? \n",
    "    What happened to $z$? Can you explin why?**"
   ]
  },
  {
   "cell_type": "code",
   "execution_count": null,
   "metadata": {},
   "outputs": [],
   "source": []
  },
  {
   "cell_type": "markdown",
   "metadata": {},
   "source": [
    "Correspondingly if we wanted to do the same operation with a rotation of $\\phi$ in the y-z\n",
    "plane then the rotation matrix is\n",
    "$$\n",
    "\\begin{pmatrix}\n",
    "1 & 0 & 0 \\\\\n",
    "0 & \\cos \\phi & -\\sin \\phi  \\\\\n",
    "0 & \\sin \\phi & \\cos \\phi\n",
    "\\end{pmatrix}\n",
    "$$\n"
   ]
  },
  {
   "cell_type": "markdown",
   "metadata": {},
   "source": [
    "**CHECKPOINT Write the corresponding matrix for the x-z plane. How can you show that it is the correct matrix?**"
   ]
  },
  {
   "cell_type": "code",
   "execution_count": null,
   "metadata": {},
   "outputs": [],
   "source": []
  },
  {
   "cell_type": "markdown",
   "metadata": {},
   "source": [
    "As an aside, it turns out that <em> any </em>  rotation in 3 dimensional space can be represented as a series of rotations in 2-dimensional planes, though those planes are\n",
    "not as straightforward as the above. These are the so called *Euler angles*, \n",
    "but we will not consider this any further.\n",
    "\n",
    "The corresponding Python code when $\\theta=45^o$ and $\\phi=22.5^o$ is\n"
   ]
  },
  {
   "cell_type": "code",
   "execution_count": null,
   "metadata": {},
   "outputs": [],
   "source": [
    "import math\n",
    "from math import pi\n",
    "\n",
    "theta = pi/4.0\n",
    "cT = math.cos(theta)\n",
    "sT = math.sin(theta)\n",
    "R1 = np.array([[cT,-sT,0],[sT,cT,0],[0,0,1]])\n",
    "phi = pi/8.0\n",
    "cP = math.cos(phi)\n",
    "sP = math.sin(phi)\n",
    "R2 = np.array([[1,0,0], [0,cP,-sP],[0,sP,cP]])"
   ]
  },
  {
   "cell_type": "markdown",
   "metadata": {},
   "source": [
    "**Extension CHECKPOINT write a Python function that takes as input an angle and the plane you want to\n",
    "rotate in (xy, yz, xz) and it returns a corresponding matrix.**"
   ]
  },
  {
   "cell_type": "code",
   "execution_count": null,
   "metadata": {},
   "outputs": [],
   "source": []
  },
  {
   "cell_type": "markdown",
   "metadata": {},
   "source": [
    "We can compute how vectors are transformed under these matrices. It is worth\n",
    "asking what happens to dot products of vectors before and after rotation."
   ]
  },
  {
   "cell_type": "markdown",
   "metadata": {},
   "source": [
    "**CHECKPOINT Write a function to create two arbitrary vectors $x$ and $y$ in 3-d space.\n",
    "Compute their dot product. Rotate $x$ and $y$ using `R1` (defined above) and recompute the dot product. How do they compare? Check what happens to the length of these vectors before and after rotation?**"
   ]
  },
  {
   "cell_type": "code",
   "execution_count": null,
   "metadata": {},
   "outputs": [],
   "source": []
  },
  {
   "cell_type": "markdown",
   "metadata": {},
   "source": [
    "We can compute the inverse of `R1` simply by using the `linalg.inverse` function\n",
    "but it's also possible to determine it directly.\n",
    "\n",
    "**CHECKPOINT What is the formula for the inverse of `R1`? (Think about the\n",
    "angle of rotation in the inverse). Write a function to compute the inverse of `R1`\n",
    "directly and compare with the computed inverse. Can we check that in a way where we don't have check so many entries?**"
   ]
  },
  {
   "cell_type": "code",
   "execution_count": null,
   "metadata": {},
   "outputs": [],
   "source": []
  },
  {
   "cell_type": "markdown",
   "metadata": {},
   "source": [
    "Instead of thinking of one rotation we can put rotations together by multiplying them together. In the above case a composite rotation\n",
    "`np.matmul(R1,R2)` corresponds to first applying the rotation `R2` followed by the\n",
    "rotation `R1`.\n",
    "\n",
    "**CHECKPOINT Compute the above rotation and vice-vearsa (`R1` followed by `R2`).\n",
    "Are these matrices equal? What happens to a dot product?**"
   ]
  },
  {
   "cell_type": "code",
   "execution_count": null,
   "metadata": {},
   "outputs": [],
   "source": []
  },
  {
   "cell_type": "markdown",
   "metadata": {},
   "source": [
    "**CHECKPOINT Again, it's possible to compute the inverse of a composite set of rotations.\n",
    "Do this for the above rotations and compare it with the numerical inverse to check if it's correct.**"
   ]
  },
  {
   "cell_type": "code",
   "execution_count": null,
   "metadata": {},
   "outputs": [],
   "source": []
  },
  {
   "cell_type": "markdown",
   "metadata": {},
   "source": [
    "<h2 id=\"Stretching\">Stretching</h2>"
   ]
  },
  {
   "cell_type": "markdown",
   "metadata": {},
   "source": [
    "The corresponding stretch matrix in 3 dimensions is"
   ]
  },
  {
   "cell_type": "markdown",
   "metadata": {},
   "source": [
    "$$\n",
    "\\begin{pmatrix}\n",
    "a & 0 & 0 \\\\\n",
    "0 & b & 0 \\\\\n",
    "0 & 0 & c\n",
    "\\end{pmatrix}\n",
    "$$\n",
    "\n",
    "**CHECKPOINT From the lecture notes there is a formula for the inverse of such a matrix. Check this for an example and using `linalg.inverse` fucntion.**"
   ]
  },
  {
   "cell_type": "code",
   "execution_count": null,
   "metadata": {},
   "outputs": [],
   "source": []
  },
  {
   "cell_type": "markdown",
   "metadata": {},
   "source": [
    "**CHECKPOINT Compute a composite of a matrix of the above type and a rotation matrix. Are they commutative?**"
   ]
  },
  {
   "cell_type": "code",
   "execution_count": null,
   "metadata": {},
   "outputs": [],
   "source": []
  },
  {
   "cell_type": "markdown",
   "metadata": {},
   "source": [
    "**CHECKPOINT Are the dot products of vectors the same before and after the above matrix is applied?**"
   ]
  },
  {
   "cell_type": "code",
   "execution_count": null,
   "metadata": {},
   "outputs": [],
   "source": []
  },
  {
   "cell_type": "markdown",
   "metadata": {},
   "source": [
    "<h1 id=\"Adjacency-matrix\">Adjacency matrix</h1>\n",
    "\n",
    "As discussed in the lectures, the adjacency matrix of a graph $\\mathbf{N}$ can be used to\n",
    "compute how many paths exists between two arbitrary vertices of length $p$, by looking at\n",
    "the corresponding entry for $\\mathbf{N}^p$. For example you can find the number of paths of length 2 between any pair \n",
    "of vertices by computing $\\mathbf{N}^2$\n",
    "\n",
    "**CHECKPOINT Write a function that will create the adjacency matrix for the first graph\n",
    "discussed in the lectures. Compute $\\mathbf{N}^2$, $\\mathbf{N}^3$ and $\\mathbf{N}^4$. Check if they match with what you expect if you looked at the graph and computed the number of paths by hand. "
   ]
  },
  {
   "cell_type": "code",
   "execution_count": null,
   "metadata": {},
   "outputs": [],
   "source": []
  },
  {
   "cell_type": "markdown",
   "metadata": {},
   "source": [
    "**CHECKPOINT If one has a graph of $m$ nodes, then the maximum possible path between two nodes is $m$ (satisfy yourself that this is true). This gives a method (albeit a deeply inefficient one)  to determine if a graph is disconnected, i.e. that there are at least one pair of nodes that are not connected through some path. \n",
    "If we have a corresponding adjacency matrix\n",
    "$\\mathbf{A}$ then if we can compute $\\mathbf{A}^2$, $\\mathbf{A}^3$, $\\dots$ $\\mathbf{A}^m$\n",
    "and we find that all of these cases we find that a particular entry in this sequence of matrices remains zero, then\n",
    "no path lies between those nodes. Write code to read in an adjacency matrix from a file,\n",
    "progressively compute powers of the adjacency matrix  and record what entries are non-zero. Continue computing powers until all entries have a non-zero entry or the maximum possible number of powers have been computed.**"
   ]
  },
  {
   "cell_type": "code",
   "execution_count": null,
   "metadata": {},
   "outputs": [],
   "source": []
  }
 ],
 "metadata": {
  "kernelspec": {
   "display_name": "Python 3",
   "language": "python",
   "name": "python3"
  },
  "language_info": {
   "codemirror_mode": {
    "name": "ipython",
    "version": 3
   },
   "file_extension": ".py",
   "mimetype": "text/x-python",
   "name": "python",
   "nbconvert_exporter": "python",
   "pygments_lexer": "ipython3",
   "version": "3.7.5"
  }
 },
 "nbformat": 4,
 "nbformat_minor": 2
}
